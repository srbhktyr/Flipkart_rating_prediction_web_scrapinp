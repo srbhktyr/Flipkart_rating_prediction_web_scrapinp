{
 "cells": [
  {
   "cell_type": "code",
   "execution_count": 1,
   "id": "09ed807b",
   "metadata": {},
   "outputs": [],
   "source": [
    "import selenium\n",
    "import pandas as pd\n",
    "import time\n",
    "import  requests\n",
    "from selenium import webdriver\n",
    "from selenium.common.exceptions import NoSuchElementException\n",
    "from selenium.webdriver.common.keys import Keys\n",
    "from selenium.webdriver.common.action_chains import ActionChains\n",
    "from selenium.webdriver.support.ui import WebDriverWait\n",
    "from selenium.webdriver.support import expected_conditions as EC\n",
    "from selenium.webdriver.common.by import By\n",
    "import warnings\n",
    "warnings.filterwarnings('ignore')"
   ]
  },
  {
   "cell_type": "code",
   "execution_count": 6,
   "id": "1715ee01",
   "metadata": {},
   "outputs": [],
   "source": [
    "driver=webdriver.Chrome(r\"chromedriver.exe\")"
   ]
  },
  {
   "cell_type": "markdown",
   "id": "48928d15",
   "metadata": {},
   "source": [
    "## Opening the wesite"
   ]
  },
  {
   "cell_type": "code",
   "execution_count": 7,
   "id": "cfbe18d2",
   "metadata": {},
   "outputs": [],
   "source": [
    "url = \"https://www.flipkart.com/\"\n",
    "driver.get(url)\n",
    "driver.implicitly_wait(3)\n",
    "\n",
    "try:\n",
    "    cancel_button = driver.find_element_by_class_name('_2doB4z')\n",
    "    cancel_button.click()\n",
    "    \n",
    "except:\n",
    "    print('no registartion page pop up!!')"
   ]
  },
  {
   "cell_type": "code",
   "execution_count": 8,
   "id": "beb54256",
   "metadata": {},
   "outputs": [],
   "source": [
    "srch_items = ['laptops', 'Smart Phones','smart watches', 'AC']"
   ]
  },
  {
   "cell_type": "markdown",
   "id": "7105f4c6",
   "metadata": {},
   "source": [
    "## Lets store url of each product in a list\n",
    "**we have stored the url in a list urls, later we will scrap each url for review and ratings**"
   ]
  },
  {
   "cell_type": "code",
   "execution_count": 9,
   "id": "3ec6a0f1",
   "metadata": {},
   "outputs": [],
   "source": [
    "urls = []\n",
    "\n",
    "for item in srch_items:\n",
    "    srch_bar= driver.find_element_by_xpath(\"//div[@class='_3OO5Xc']/input\") # search bar\n",
    "#     time.sleep(3)\n",
    "    srch_bar.clear() # clearing the search bar\n",
    "    srch_bar.send_keys(item) # typing item from list into the search bar\n",
    "    click_on_serach = driver.find_element_by_xpath(\"//button[@class='L0Z3Pu']\") # slecting the search button\n",
    "    click_on_serach.click() # clicking the search button\n",
    "    search_result = driver.find_elements_by_xpath(\"//nav[@class='yFHi8N']/a\") # selenium object for searched result\n",
    "    pages = [] \n",
    "    for page in search_result:  ## looping the all the pages which we need to scrap\n",
    "        pages.append(page.get_attribute('href'))\n",
    "\n",
    "    for page in pages[0:4]: # lets scarp 4 pages of the search result.\n",
    "        driver.get(page)\n",
    "        driver.implicitly_wait(3)\n",
    "        product = driver.find_elements_by_xpath(\"//a[@class='_1fQZEK']\")\n",
    "        for url in product:\n",
    "            urls.append(url.get_attribute('href'))\n"
   ]
  },
  {
   "cell_type": "code",
   "execution_count": 10,
   "id": "c03999c1",
   "metadata": {},
   "outputs": [
    {
     "data": {
      "text/plain": [
       "360"
      ]
     },
     "execution_count": 10,
     "metadata": {},
     "output_type": "execute_result"
    }
   ],
   "source": [
    "len(urls) ## url for products. later we will scrap the review "
   ]
  },
  {
   "cell_type": "markdown",
   "id": "e087136c",
   "metadata": {},
   "source": [
    "#### Defining a function for review scraping"
   ]
  },
  {
   "cell_type": "code",
   "execution_count": 1,
   "id": "c84106f1",
   "metadata": {},
   "outputs": [],
   "source": [
    "titles = []\n",
    "review_text = []\n",
    "ratings = []"
   ]
  },
  {
   "cell_type": "markdown",
   "id": "92684411",
   "metadata": {},
   "source": [
    "#### defining a function for the review scraping"
   ]
  },
  {
   "cell_type": "code",
   "execution_count": 12,
   "id": "c18d6c4c",
   "metadata": {},
   "outputs": [],
   "source": [
    "def scrap():\n",
    "    \n",
    "    # Scraping Ratings\n",
    "    for rating in driver.find_elements_by_xpath(\"//p[@class='_2-N8zT']/../div\"):\n",
    "        ratings.append(rating.text)\n",
    "        \n",
    "    # Scraping Title\n",
    "    \n",
    "    for title in driver.find_elements_by_xpath(\"//p[@class='_2-N8zT']\"):\n",
    "        titles.append(title.text)\n",
    "        \n",
    "    ## Scraping the review\n",
    "    for review in driver.find_elements_by_xpath(\"//div[@class='t-ZTKy']\"):\n",
    "        review_text.append(review.text)"
   ]
  },
  {
   "cell_type": "code",
   "execution_count": 14,
   "id": "69fdf672",
   "metadata": {},
   "outputs": [],
   "source": [
    "for url in urls:\n",
    "\n",
    "    driver.get(url)\n",
    "    driver.implicitly_wait(5)\n",
    "    # driver.execute_script(\"window.scrollBy(0,4000)\")\n",
    "    try:\n",
    "        # opening the link for the view review page\n",
    "        lnk =driver.find_element_by_xpath(\"//div[@class='_2c2kV-']/following::a\").get_attribute('href')\n",
    "        driver.get(lnk) # opening the review page\n",
    "        driver.implicitly_wait(5)\n",
    "    except NoSuchElementException:\n",
    "        pass\n",
    "    scrap()\n",
    "\n",
    "    try:\n",
    "        # Accessing the multiple page of the riview section\n",
    "        n_pages = driver.find_elements_by_xpath(\"//nav[@class='yFHi8N']/a\")\n",
    "        n_page = []\n",
    "        for page in n_page[:-1]: # -1 is used for avoid the repetition due to next button\n",
    "            n_page.append(page.get_attribute('href'))\n",
    "        for i in page[0:10]: # this will acces 10 pages of the review section\n",
    "            driver.get(i)\n",
    "            driver.implicitly_wait(5)\n",
    "            scrap()\n",
    "    except: continue"
   ]
  },
  {
   "cell_type": "code",
   "execution_count": 15,
   "id": "0b96bd9f",
   "metadata": {},
   "outputs": [
    {
     "data": {
      "text/plain": [
       "(3228, 3228, 3228)"
      ]
     },
     "execution_count": 15,
     "metadata": {},
     "output_type": "execute_result"
    }
   ],
   "source": [
    "len(ratings), len(review_text), len(titles) ## number of reviews scrapped"
   ]
  },
  {
   "cell_type": "markdown",
   "id": "baf2ff40",
   "metadata": {},
   "source": [
    "### Lets convert the data into pandas dataframe"
   ]
  },
  {
   "cell_type": "code",
   "execution_count": 17,
   "id": "d8483d06",
   "metadata": {},
   "outputs": [],
   "source": [
    "data = list(zip(titles,review_text,ratings))\n",
    "df = pd.DataFrame(data, columns = [\"Review_title\",\"Reiew_text\",\"Ratings\"])"
   ]
  },
  {
   "cell_type": "code",
   "execution_count": 19,
   "id": "25482ed4",
   "metadata": {},
   "outputs": [
    {
     "data": {
      "text/html": [
       "<div>\n",
       "<style scoped>\n",
       "    .dataframe tbody tr th:only-of-type {\n",
       "        vertical-align: middle;\n",
       "    }\n",
       "\n",
       "    .dataframe tbody tr th {\n",
       "        vertical-align: top;\n",
       "    }\n",
       "\n",
       "    .dataframe thead th {\n",
       "        text-align: right;\n",
       "    }\n",
       "</style>\n",
       "<table border=\"1\" class=\"dataframe\">\n",
       "  <thead>\n",
       "    <tr style=\"text-align: right;\">\n",
       "      <th></th>\n",
       "      <th>Review_title</th>\n",
       "      <th>Reiew_text</th>\n",
       "      <th>Ratings</th>\n",
       "    </tr>\n",
       "  </thead>\n",
       "  <tbody>\n",
       "    <tr>\n",
       "      <th>0</th>\n",
       "      <td>Simply awesome</td>\n",
       "      <td>Superb design value for money</td>\n",
       "      <td>5</td>\n",
       "    </tr>\n",
       "    <tr>\n",
       "      <th>1</th>\n",
       "      <td>Best in the market!</td>\n",
       "      <td>Excellent, fast, Efficient, If you are looking...</td>\n",
       "      <td>5</td>\n",
       "    </tr>\n",
       "    <tr>\n",
       "      <th>2</th>\n",
       "      <td>Wonderful</td>\n",
       "      <td>Love one</td>\n",
       "      <td>5</td>\n",
       "    </tr>\n",
       "    <tr>\n",
       "      <th>3</th>\n",
       "      <td>Great product</td>\n",
       "      <td>Nice product and same as seen as the product.t...</td>\n",
       "      <td>5</td>\n",
       "    </tr>\n",
       "    <tr>\n",
       "      <th>4</th>\n",
       "      <td>Pretty good</td>\n",
       "      <td>As of now okay doing good performance for the ...</td>\n",
       "      <td>4</td>\n",
       "    </tr>\n",
       "    <tr>\n",
       "      <th>5</th>\n",
       "      <td>Mind-blowing purchase</td>\n",
       "      <td>Nice product</td>\n",
       "      <td>5</td>\n",
       "    </tr>\n",
       "    <tr>\n",
       "      <th>6</th>\n",
       "      <td>Terrible product</td>\n",
       "      <td>When i open a lid andvibam not pressing the po...</td>\n",
       "      <td>1</td>\n",
       "    </tr>\n",
       "    <tr>\n",
       "      <th>7</th>\n",
       "      <td>Slightly disappointed</td>\n",
       "      <td>Iam shutdown my laptop but when to i open lapt...</td>\n",
       "      <td>2</td>\n",
       "    </tr>\n",
       "    <tr>\n",
       "      <th>8</th>\n",
       "      <td>Good quality product</td>\n",
       "      <td>Good Product</td>\n",
       "      <td>4</td>\n",
       "    </tr>\n",
       "    <tr>\n",
       "      <th>9</th>\n",
       "      <td>Great product</td>\n",
       "      <td>Great</td>\n",
       "      <td>5</td>\n",
       "    </tr>\n",
       "  </tbody>\n",
       "</table>\n",
       "</div>"
      ],
      "text/plain": [
       "            Review_title                                         Reiew_text  \\\n",
       "0         Simply awesome                      Superb design value for money   \n",
       "1    Best in the market!  Excellent, fast, Efficient, If you are looking...   \n",
       "2              Wonderful                                           Love one   \n",
       "3          Great product  Nice product and same as seen as the product.t...   \n",
       "4            Pretty good  As of now okay doing good performance for the ...   \n",
       "5  Mind-blowing purchase                                       Nice product   \n",
       "6       Terrible product  When i open a lid andvibam not pressing the po...   \n",
       "7  Slightly disappointed  Iam shutdown my laptop but when to i open lapt...   \n",
       "8   Good quality product                                       Good Product   \n",
       "9          Great product                                              Great   \n",
       "\n",
       "  Ratings  \n",
       "0       5  \n",
       "1       5  \n",
       "2       5  \n",
       "3       5  \n",
       "4       4  \n",
       "5       5  \n",
       "6       1  \n",
       "7       2  \n",
       "8       4  \n",
       "9       5  "
      ]
     },
     "execution_count": 19,
     "metadata": {},
     "output_type": "execute_result"
    }
   ],
   "source": [
    "df.head(10)"
   ]
  },
  {
   "cell_type": "code",
   "execution_count": 21,
   "id": "193a43b5",
   "metadata": {},
   "outputs": [],
   "source": [
    "df.to_csv(r'C:\\Users\\katiy\\Desktop\\flipkart_review.csv') ## Saving the data in csv format"
   ]
  }
 ],
 "metadata": {
  "kernelspec": {
   "display_name": "Python 3 (ipykernel)",
   "language": "python",
   "name": "python3"
  },
  "language_info": {
   "codemirror_mode": {
    "name": "ipython",
    "version": 3
   },
   "file_extension": ".py",
   "mimetype": "text/x-python",
   "name": "python",
   "nbconvert_exporter": "python",
   "pygments_lexer": "ipython3",
   "version": "3.9.0"
  }
 },
 "nbformat": 4,
 "nbformat_minor": 5
}
