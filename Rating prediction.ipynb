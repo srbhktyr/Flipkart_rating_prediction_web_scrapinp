{
 "cells": [
  {
   "cell_type": "code",
   "execution_count": 1,
   "id": "ea693fe5",
   "metadata": {},
   "outputs": [
    {
     "name": "stderr",
     "output_type": "stream",
     "text": [
      "C:\\Users\\katiy\\anaconda3\\envs\\tensorflow_gpu\\lib\\site-packages\\scipy\\__init__.py:146: UserWarning: A NumPy version >=1.16.5 and <1.23.0 is required for this version of SciPy (detected version 1.23.1\n",
      "  warnings.warn(f\"A NumPy version >={np_minversion} and <{np_maxversion}\"\n",
      "C:\\Users\\katiy\\anaconda3\\envs\\tensorflow_gpu\\lib\\site-packages\\xgboost\\compat.py:36: FutureWarning: pandas.Int64Index is deprecated and will be removed from pandas in a future version. Use pandas.Index with the appropriate dtype instead.\n",
      "  from pandas import MultiIndex, Int64Index\n"
     ]
    }
   ],
   "source": [
    "import pandas as pd\n",
    "import numpy as np\n",
    "import matplotlib.pyplot as plt\n",
    "import seaborn as sns\n",
    "\n",
    "#importing nltk libraries\n",
    "import nltk\n",
    "#nltk.download('all')\n",
    "from nltk.corpus import stopwords\n",
    "import re\n",
    "from nltk.tokenize import word_tokenize\n",
    "from nltk.stem.wordnet import WordNetLemmatizer\n",
    "from nltk.corpus import wordnet\n",
    "from nltk import FreqDist\n",
    "from sklearn.feature_extraction.text import TfidfVectorizer\n",
    "from scipy.sparse import hstack\n",
    "from sklearn.preprocessing import StandardScaler\n",
    "from sklearn.model_selection import train_test_split, GridSearchCV \n",
    "from sklearn.model_selection import cross_val_score\n",
    "from sklearn.metrics import f1_score,precision_score, confusion_matrix, accuracy_score,classification_report\n",
    "\n",
    "from sklearn.svm import LinearSVC\n",
    "from sklearn.naive_bayes import MultinomialNB, GaussianNB,BernoulliNB\n",
    "from sklearn.linear_model import LogisticRegression\n",
    "\n",
    "from sklearn.linear_model import SGDClassifier\n",
    "from sklearn.ensemble import RandomForestClassifier, ExtraTreesClassifier\n",
    "from sklearn.tree import DecisionTreeClassifier\n",
    "from xgboost import XGBClassifier\n",
    "\n",
    "import warnings\n",
    "warnings.filterwarnings('ignore')"
   ]
  },
  {
   "cell_type": "code",
   "execution_count": 2,
   "id": "db147e26",
   "metadata": {},
   "outputs": [
    {
     "data": {
      "text/html": [
       "<div>\n",
       "<style scoped>\n",
       "    .dataframe tbody tr th:only-of-type {\n",
       "        vertical-align: middle;\n",
       "    }\n",
       "\n",
       "    .dataframe tbody tr th {\n",
       "        vertical-align: top;\n",
       "    }\n",
       "\n",
       "    .dataframe thead th {\n",
       "        text-align: right;\n",
       "    }\n",
       "</style>\n",
       "<table border=\"1\" class=\"dataframe\">\n",
       "  <thead>\n",
       "    <tr style=\"text-align: right;\">\n",
       "      <th></th>\n",
       "      <th>Unnamed: 0</th>\n",
       "      <th>Review_title</th>\n",
       "      <th>Reiew_text</th>\n",
       "      <th>Ratings</th>\n",
       "    </tr>\n",
       "  </thead>\n",
       "  <tbody>\n",
       "    <tr>\n",
       "      <th>0</th>\n",
       "      <td>0</td>\n",
       "      <td>Simply awesome</td>\n",
       "      <td>Superb design value for money</td>\n",
       "      <td>5</td>\n",
       "    </tr>\n",
       "    <tr>\n",
       "      <th>1</th>\n",
       "      <td>1</td>\n",
       "      <td>Best in the market!</td>\n",
       "      <td>Excellent, fast, Efficient, If you are looking...</td>\n",
       "      <td>5</td>\n",
       "    </tr>\n",
       "    <tr>\n",
       "      <th>2</th>\n",
       "      <td>2</td>\n",
       "      <td>Wonderful</td>\n",
       "      <td>Love one</td>\n",
       "      <td>5</td>\n",
       "    </tr>\n",
       "    <tr>\n",
       "      <th>3</th>\n",
       "      <td>3</td>\n",
       "      <td>Great product</td>\n",
       "      <td>Nice product and same as seen as the product.t...</td>\n",
       "      <td>5</td>\n",
       "    </tr>\n",
       "    <tr>\n",
       "      <th>4</th>\n",
       "      <td>4</td>\n",
       "      <td>Pretty good</td>\n",
       "      <td>As of now okay doing good performance for the ...</td>\n",
       "      <td>4</td>\n",
       "    </tr>\n",
       "  </tbody>\n",
       "</table>\n",
       "</div>"
      ],
      "text/plain": [
       "   Unnamed: 0         Review_title  \\\n",
       "0           0       Simply awesome   \n",
       "1           1  Best in the market!   \n",
       "2           2            Wonderful   \n",
       "3           3        Great product   \n",
       "4           4          Pretty good   \n",
       "\n",
       "                                          Reiew_text  Ratings  \n",
       "0                      Superb design value for money        5  \n",
       "1  Excellent, fast, Efficient, If you are looking...        5  \n",
       "2                                           Love one        5  \n",
       "3  Nice product and same as seen as the product.t...        5  \n",
       "4  As of now okay doing good performance for the ...        4  "
      ]
     },
     "execution_count": 2,
     "metadata": {},
     "output_type": "execute_result"
    }
   ],
   "source": [
    "df = pd.read_csv('flipkart_review.csv')\n",
    "df.head()"
   ]
  },
  {
   "cell_type": "code",
   "execution_count": 3,
   "id": "93724bce",
   "metadata": {},
   "outputs": [],
   "source": [
    "df = df.drop(columns='Unnamed: 0', axis=0)"
   ]
  },
  {
   "cell_type": "code",
   "execution_count": 4,
   "id": "d41fbc72",
   "metadata": {},
   "outputs": [
    {
     "data": {
      "text/plain": [
       "(3228, 3)"
      ]
     },
     "execution_count": 4,
     "metadata": {},
     "output_type": "execute_result"
    }
   ],
   "source": [
    "df.shape"
   ]
  },
  {
   "cell_type": "code",
   "execution_count": 5,
   "id": "f2e28fa4",
   "metadata": {},
   "outputs": [
    {
     "name": "stdout",
     "output_type": "stream",
     "text": [
      "<class 'pandas.core.frame.DataFrame'>\n",
      "RangeIndex: 3228 entries, 0 to 3227\n",
      "Data columns (total 3 columns):\n",
      " #   Column        Non-Null Count  Dtype \n",
      "---  ------        --------------  ----- \n",
      " 0   Review_title  3228 non-null   object\n",
      " 1   Reiew_text    3228 non-null   object\n",
      " 2   Ratings       3228 non-null   int64 \n",
      "dtypes: int64(1), object(2)\n",
      "memory usage: 75.8+ KB\n"
     ]
    }
   ],
   "source": [
    "df.info()"
   ]
  },
  {
   "cell_type": "code",
   "execution_count": 6,
   "id": "b8b17e8f",
   "metadata": {},
   "outputs": [
    {
     "data": {
      "text/plain": [
       "Review_title    0\n",
       "Reiew_text      0\n",
       "Ratings         0\n",
       "dtype: int64"
      ]
     },
     "execution_count": 6,
     "metadata": {},
     "output_type": "execute_result"
    }
   ],
   "source": [
    "df.isna().sum()"
   ]
  },
  {
   "cell_type": "code",
   "execution_count": 7,
   "id": "fd8bedca",
   "metadata": {},
   "outputs": [
    {
     "data": {
      "text/plain": [
       "Review_title    0\n",
       "Reiew_text      0\n",
       "Ratings         0\n",
       "dtype: int64"
      ]
     },
     "execution_count": 7,
     "metadata": {},
     "output_type": "execute_result"
    }
   ],
   "source": [
    "df.isnull().sum()"
   ]
  },
  {
   "cell_type": "markdown",
   "id": "ce175a2a",
   "metadata": {},
   "source": [
    "**There is no null or na values in the dataframe**"
   ]
  },
  {
   "cell_type": "code",
   "execution_count": 8,
   "id": "e49d9ac7",
   "metadata": {},
   "outputs": [
    {
     "data": {
      "text/html": [
       "<div>\n",
       "<style scoped>\n",
       "    .dataframe tbody tr th:only-of-type {\n",
       "        vertical-align: middle;\n",
       "    }\n",
       "\n",
       "    .dataframe tbody tr th {\n",
       "        vertical-align: top;\n",
       "    }\n",
       "\n",
       "    .dataframe thead th {\n",
       "        text-align: right;\n",
       "    }\n",
       "</style>\n",
       "<table border=\"1\" class=\"dataframe\">\n",
       "  <thead>\n",
       "    <tr style=\"text-align: right;\">\n",
       "      <th></th>\n",
       "      <th>Review_title</th>\n",
       "      <th>Reiew_text</th>\n",
       "      <th>Ratings</th>\n",
       "    </tr>\n",
       "  </thead>\n",
       "  <tbody>\n",
       "    <tr>\n",
       "      <th>0</th>\n",
       "      <td>Simply awesome</td>\n",
       "      <td>Superb design value for money</td>\n",
       "      <td>5</td>\n",
       "    </tr>\n",
       "    <tr>\n",
       "      <th>1</th>\n",
       "      <td>Best in the market!</td>\n",
       "      <td>Excellent, fast, Efficient, If you are looking...</td>\n",
       "      <td>5</td>\n",
       "    </tr>\n",
       "    <tr>\n",
       "      <th>2</th>\n",
       "      <td>Wonderful</td>\n",
       "      <td>Love one</td>\n",
       "      <td>5</td>\n",
       "    </tr>\n",
       "    <tr>\n",
       "      <th>3</th>\n",
       "      <td>Great product</td>\n",
       "      <td>Nice product and same as seen as the product.t...</td>\n",
       "      <td>5</td>\n",
       "    </tr>\n",
       "    <tr>\n",
       "      <th>4</th>\n",
       "      <td>Pretty good</td>\n",
       "      <td>As of now okay doing good performance for the ...</td>\n",
       "      <td>4</td>\n",
       "    </tr>\n",
       "  </tbody>\n",
       "</table>\n",
       "</div>"
      ],
      "text/plain": [
       "          Review_title                                         Reiew_text  \\\n",
       "0       Simply awesome                      Superb design value for money   \n",
       "1  Best in the market!  Excellent, fast, Efficient, If you are looking...   \n",
       "2            Wonderful                                           Love one   \n",
       "3        Great product  Nice product and same as seen as the product.t...   \n",
       "4          Pretty good  As of now okay doing good performance for the ...   \n",
       "\n",
       "   Ratings  \n",
       "0        5  \n",
       "1        5  \n",
       "2        5  \n",
       "3        5  \n",
       "4        4  "
      ]
     },
     "execution_count": 8,
     "metadata": {},
     "output_type": "execute_result"
    }
   ],
   "source": [
    "df.head()"
   ]
  },
  {
   "cell_type": "code",
   "execution_count": 9,
   "id": "02cffec5",
   "metadata": {},
   "outputs": [],
   "source": [
    "df['Review'] =  df.Review_title+ ' ' + df.Reiew_text "
   ]
  },
  {
   "cell_type": "code",
   "execution_count": 10,
   "id": "7a24b428",
   "metadata": {},
   "outputs": [
    {
     "data": {
      "text/html": [
       "<div>\n",
       "<style scoped>\n",
       "    .dataframe tbody tr th:only-of-type {\n",
       "        vertical-align: middle;\n",
       "    }\n",
       "\n",
       "    .dataframe tbody tr th {\n",
       "        vertical-align: top;\n",
       "    }\n",
       "\n",
       "    .dataframe thead th {\n",
       "        text-align: right;\n",
       "    }\n",
       "</style>\n",
       "<table border=\"1\" class=\"dataframe\">\n",
       "  <thead>\n",
       "    <tr style=\"text-align: right;\">\n",
       "      <th></th>\n",
       "      <th>Review_title</th>\n",
       "      <th>Reiew_text</th>\n",
       "      <th>Ratings</th>\n",
       "      <th>Review</th>\n",
       "    </tr>\n",
       "  </thead>\n",
       "  <tbody>\n",
       "    <tr>\n",
       "      <th>0</th>\n",
       "      <td>Simply awesome</td>\n",
       "      <td>Superb design value for money</td>\n",
       "      <td>5</td>\n",
       "      <td>Simply awesome Superb design value for money</td>\n",
       "    </tr>\n",
       "    <tr>\n",
       "      <th>1</th>\n",
       "      <td>Best in the market!</td>\n",
       "      <td>Excellent, fast, Efficient, If you are looking...</td>\n",
       "      <td>5</td>\n",
       "      <td>Best in the market! Excellent, fast, Efficient...</td>\n",
       "    </tr>\n",
       "    <tr>\n",
       "      <th>2</th>\n",
       "      <td>Wonderful</td>\n",
       "      <td>Love one</td>\n",
       "      <td>5</td>\n",
       "      <td>Wonderful Love one</td>\n",
       "    </tr>\n",
       "    <tr>\n",
       "      <th>3</th>\n",
       "      <td>Great product</td>\n",
       "      <td>Nice product and same as seen as the product.t...</td>\n",
       "      <td>5</td>\n",
       "      <td>Great product Nice product and same as seen as...</td>\n",
       "    </tr>\n",
       "    <tr>\n",
       "      <th>4</th>\n",
       "      <td>Pretty good</td>\n",
       "      <td>As of now okay doing good performance for the ...</td>\n",
       "      <td>4</td>\n",
       "      <td>Pretty good As of now okay doing good performa...</td>\n",
       "    </tr>\n",
       "  </tbody>\n",
       "</table>\n",
       "</div>"
      ],
      "text/plain": [
       "          Review_title                                         Reiew_text  \\\n",
       "0       Simply awesome                      Superb design value for money   \n",
       "1  Best in the market!  Excellent, fast, Efficient, If you are looking...   \n",
       "2            Wonderful                                           Love one   \n",
       "3        Great product  Nice product and same as seen as the product.t...   \n",
       "4          Pretty good  As of now okay doing good performance for the ...   \n",
       "\n",
       "   Ratings                                             Review  \n",
       "0        5       Simply awesome Superb design value for money  \n",
       "1        5  Best in the market! Excellent, fast, Efficient...  \n",
       "2        5                                 Wonderful Love one  \n",
       "3        5  Great product Nice product and same as seen as...  \n",
       "4        4  Pretty good As of now okay doing good performa...  "
      ]
     },
     "execution_count": 10,
     "metadata": {},
     "output_type": "execute_result"
    }
   ],
   "source": [
    "df.head()"
   ]
  },
  {
   "cell_type": "code",
   "execution_count": 11,
   "id": "9592f7ff",
   "metadata": {},
   "outputs": [],
   "source": [
    "df.drop('Reiew_text', inplace=True, axis = 1)"
   ]
  },
  {
   "cell_type": "code",
   "execution_count": 12,
   "id": "3c981526",
   "metadata": {},
   "outputs": [],
   "source": [
    "df.drop('Review_title', inplace=True, axis = 1)"
   ]
  },
  {
   "cell_type": "code",
   "execution_count": 13,
   "id": "b19dccd7",
   "metadata": {},
   "outputs": [
    {
     "data": {
      "text/plain": [
       "'Really Nice Cons.\\n1.Lite or Dim display colour in 1080p resolution while Online Video Streaming.\\n2.Battery Backup is only 3 hours after normal uses but in description shows 9.5 hours.\\n\\nPros\\n1.If you want to buy this Laptop for college or office purpose then buy.\\n2.Best in this price segment🏆\\n3.Window boot in 5 sec\\n4. 8/512⚡️\\n5.lite gaming and System Sound Game recording in 60fps.\\n6.mircrosoft office student 2021 pre- installed(lifetime validity).'"
      ]
     },
     "execution_count": 13,
     "metadata": {},
     "output_type": "execute_result"
    }
   ],
   "source": [
    "df.Review[100]"
   ]
  },
  {
   "cell_type": "markdown",
   "id": "c602ebc4",
   "metadata": {},
   "source": [
    "## Lets Get rid of abbreviations"
   ]
  },
  {
   "cell_type": "code",
   "execution_count": 14,
   "id": "94578e15",
   "metadata": {},
   "outputs": [],
   "source": [
    "import contractions"
   ]
  },
  {
   "cell_type": "code",
   "execution_count": 15,
   "id": "2e20176e",
   "metadata": {},
   "outputs": [],
   "source": [
    "df['Review'] = df.Review.apply(lambda x: contractions.fix(x))"
   ]
  },
  {
   "cell_type": "code",
   "execution_count": 16,
   "id": "3eb98c26",
   "metadata": {},
   "outputs": [
    {
     "data": {
      "text/plain": [
       "'Really Nice Cons.\\n1.Lite or Dim display colour in 1080p resolution while Online Video Streaming.\\n2.Battery Backup is only 3 hours after normal uses but in description shows 9.5 hours.\\n\\nPros\\n1.If you want to buy this Laptop for college or office purpose then buy.\\n2.Best in this price segment🏆\\n3.Window boot in 5 sec\\n4. 8/512⚡️\\n5.lite gaming and System Sound Game recording in 60fps.\\n6.mircrosoft office student 2021 pre- installed(lifetime validity).'"
      ]
     },
     "execution_count": 16,
     "metadata": {},
     "output_type": "execute_result"
    }
   ],
   "source": [
    "df.Review[100]"
   ]
  },
  {
   "cell_type": "code",
   "execution_count": 17,
   "id": "aa896966",
   "metadata": {},
   "outputs": [
    {
     "data": {
      "text/plain": [
       "5    2143\n",
       "4     721\n",
       "3     180\n",
       "1     156\n",
       "2      28\n",
       "Name: Ratings, dtype: int64"
      ]
     },
     "execution_count": 17,
     "metadata": {},
     "output_type": "execute_result"
    }
   ],
   "source": [
    "df.Ratings.value_counts()"
   ]
  },
  {
   "cell_type": "markdown",
   "id": "6020dc60",
   "metadata": {},
   "source": [
    "**Above data shows that data distribution is uneven that might create biasing in training or may be in the data split.**\n",
    "**Some category might miss**"
   ]
  },
  {
   "cell_type": "code",
   "execution_count": 18,
   "id": "a20a4a0b",
   "metadata": {},
   "outputs": [],
   "source": [
    "from imblearn.over_sampling import RandomOverSampler"
   ]
  },
  {
   "cell_type": "code",
   "execution_count": null,
   "id": "b90a4670",
   "metadata": {},
   "outputs": [],
   "source": []
  },
  {
   "cell_type": "code",
   "execution_count": 19,
   "id": "a0e87819",
   "metadata": {},
   "outputs": [
    {
     "name": "stderr",
     "output_type": "stream",
     "text": [
      "[nltk_data] Downloading package stopwords to\n",
      "[nltk_data]     C:\\Users\\katiy\\AppData\\Roaming\\nltk_data...\n",
      "[nltk_data]   Package stopwords is already up-to-date!\n"
     ]
    }
   ],
   "source": [
    "nltk.download('stopwords')\n",
    "from nltk.corpus import stopwords\n",
    "from nltk.stem.porter import PorterStemmer\n",
    "corpus = []\n",
    "for i in range(0, len(df)):\n",
    "  review = re.sub('[^a-zA-Z]', ' ', df['Review'][i])\n",
    "  review = review.lower()\n",
    "  review = review.split()\n",
    "  ps = PorterStemmer()\n",
    "  all_stopwords = stopwords.words('english')\n",
    "  all_stopwords.remove('not')\n",
    "  review = [ps.stem(word) for word in review if not word in set(all_stopwords)]\n",
    "  review = ' '.join(review)\n",
    "  corpus.append(review)"
   ]
  },
  {
   "cell_type": "code",
   "execution_count": 20,
   "id": "1bec37f4",
   "metadata": {},
   "outputs": [
    {
     "data": {
      "text/plain": [
       "'realli nice con lite dim display colour p resolut onlin video stream batteri backup hour normal use descript show hour pro want buy laptop colleg offic purpos buy best price segment window boot sec lite game system sound game record fp mircrosoft offic student pre instal lifetim valid'"
      ]
     },
     "execution_count": 20,
     "metadata": {},
     "output_type": "execute_result"
    }
   ],
   "source": [
    "corpus[100]"
   ]
  },
  {
   "cell_type": "code",
   "execution_count": 21,
   "id": "fdfd45b1",
   "metadata": {},
   "outputs": [],
   "source": [
    "from sklearn.feature_extraction.text import CountVectorizer\n",
    "import numpy as np\n",
    "cv = CountVectorizer(max_features = 5000)\n",
    "X = cv.fit_transform(corpus).toarray()\n",
    "y = df.iloc[:,0].values"
   ]
  },
  {
   "cell_type": "code",
   "execution_count": 22,
   "id": "946db168",
   "metadata": {},
   "outputs": [],
   "source": [
    "over = RandomOverSampler()\n",
    "X, y = over.fit_resample(X,y)"
   ]
  },
  {
   "cell_type": "code",
   "execution_count": 23,
   "id": "e95ec0cf",
   "metadata": {},
   "outputs": [
    {
     "name": "stdout",
     "output_type": "stream",
     "text": [
      "1:  2143\n",
      "2:  2143\n",
      "3:  2143\n",
      "4:  2143\n",
      "5:  2143\n"
     ]
    },
    {
     "data": {
      "text/plain": [
       "(None, None)"
      ]
     },
     "execution_count": 23,
     "metadata": {},
     "output_type": "execute_result"
    }
   ],
   "source": [
    "print('1: ',np.count_nonzero(y == 1)), print('2: ',np.count_nonzero(y==2)), print('3: ',np.count_nonzero(y==3)),\n",
    "print('4: ', np.count_nonzero(y==4)), print('5: ', np.count_nonzero(y==5))"
   ]
  },
  {
   "cell_type": "code",
   "execution_count": 24,
   "id": "125af372",
   "metadata": {},
   "outputs": [
    {
     "data": {
      "text/plain": [
       "10715"
      ]
     },
     "execution_count": 24,
     "metadata": {},
     "output_type": "execute_result"
    }
   ],
   "source": [
    "len(y)"
   ]
  },
  {
   "cell_type": "code",
   "execution_count": 25,
   "id": "970aa64c",
   "metadata": {},
   "outputs": [],
   "source": [
    "X_train, X_test, y_train, y_test = train_test_split(X, y, test_size = 0.20, random_state = 0)"
   ]
  },
  {
   "cell_type": "code",
   "execution_count": 26,
   "id": "a2f91feb",
   "metadata": {},
   "outputs": [
    {
     "data": {
      "text/plain": [
       "((2143, 3043), (8572, 3043))"
      ]
     },
     "execution_count": 26,
     "metadata": {},
     "output_type": "execute_result"
    }
   ],
   "source": [
    "X_test.shape, X_train.shape"
   ]
  },
  {
   "cell_type": "code",
   "execution_count": null,
   "id": "becf5081",
   "metadata": {},
   "outputs": [],
   "source": []
  },
  {
   "cell_type": "code",
   "execution_count": 27,
   "id": "54de36f5",
   "metadata": {},
   "outputs": [
    {
     "data": {
      "text/html": [
       "<style>#sk-container-id-1 {color: black;background-color: white;}#sk-container-id-1 pre{padding: 0;}#sk-container-id-1 div.sk-toggleable {background-color: white;}#sk-container-id-1 label.sk-toggleable__label {cursor: pointer;display: block;width: 100%;margin-bottom: 0;padding: 0.3em;box-sizing: border-box;text-align: center;}#sk-container-id-1 label.sk-toggleable__label-arrow:before {content: \"▸\";float: left;margin-right: 0.25em;color: #696969;}#sk-container-id-1 label.sk-toggleable__label-arrow:hover:before {color: black;}#sk-container-id-1 div.sk-estimator:hover label.sk-toggleable__label-arrow:before {color: black;}#sk-container-id-1 div.sk-toggleable__content {max-height: 0;max-width: 0;overflow: hidden;text-align: left;background-color: #f0f8ff;}#sk-container-id-1 div.sk-toggleable__content pre {margin: 0.2em;color: black;border-radius: 0.25em;background-color: #f0f8ff;}#sk-container-id-1 input.sk-toggleable__control:checked~div.sk-toggleable__content {max-height: 200px;max-width: 100%;overflow: auto;}#sk-container-id-1 input.sk-toggleable__control:checked~label.sk-toggleable__label-arrow:before {content: \"▾\";}#sk-container-id-1 div.sk-estimator input.sk-toggleable__control:checked~label.sk-toggleable__label {background-color: #d4ebff;}#sk-container-id-1 div.sk-label input.sk-toggleable__control:checked~label.sk-toggleable__label {background-color: #d4ebff;}#sk-container-id-1 input.sk-hidden--visually {border: 0;clip: rect(1px 1px 1px 1px);clip: rect(1px, 1px, 1px, 1px);height: 1px;margin: -1px;overflow: hidden;padding: 0;position: absolute;width: 1px;}#sk-container-id-1 div.sk-estimator {font-family: monospace;background-color: #f0f8ff;border: 1px dotted black;border-radius: 0.25em;box-sizing: border-box;margin-bottom: 0.5em;}#sk-container-id-1 div.sk-estimator:hover {background-color: #d4ebff;}#sk-container-id-1 div.sk-parallel-item::after {content: \"\";width: 100%;border-bottom: 1px solid gray;flex-grow: 1;}#sk-container-id-1 div.sk-label:hover label.sk-toggleable__label {background-color: #d4ebff;}#sk-container-id-1 div.sk-serial::before {content: \"\";position: absolute;border-left: 1px solid gray;box-sizing: border-box;top: 0;bottom: 0;left: 50%;z-index: 0;}#sk-container-id-1 div.sk-serial {display: flex;flex-direction: column;align-items: center;background-color: white;padding-right: 0.2em;padding-left: 0.2em;position: relative;}#sk-container-id-1 div.sk-item {position: relative;z-index: 1;}#sk-container-id-1 div.sk-parallel {display: flex;align-items: stretch;justify-content: center;background-color: white;position: relative;}#sk-container-id-1 div.sk-item::before, #sk-container-id-1 div.sk-parallel-item::before {content: \"\";position: absolute;border-left: 1px solid gray;box-sizing: border-box;top: 0;bottom: 0;left: 50%;z-index: -1;}#sk-container-id-1 div.sk-parallel-item {display: flex;flex-direction: column;z-index: 1;position: relative;background-color: white;}#sk-container-id-1 div.sk-parallel-item:first-child::after {align-self: flex-end;width: 50%;}#sk-container-id-1 div.sk-parallel-item:last-child::after {align-self: flex-start;width: 50%;}#sk-container-id-1 div.sk-parallel-item:only-child::after {width: 0;}#sk-container-id-1 div.sk-dashed-wrapped {border: 1px dashed gray;margin: 0 0.4em 0.5em 0.4em;box-sizing: border-box;padding-bottom: 0.4em;background-color: white;}#sk-container-id-1 div.sk-label label {font-family: monospace;font-weight: bold;display: inline-block;line-height: 1.2em;}#sk-container-id-1 div.sk-label-container {text-align: center;}#sk-container-id-1 div.sk-container {/* jupyter's `normalize.less` sets `[hidden] { display: none; }` but bootstrap.min.css set `[hidden] { display: none !important; }` so we also need the `!important` here to be able to override the default hidden behavior on the sphinx rendered scikit-learn.org. See: https://github.com/scikit-learn/scikit-learn/issues/21755 */display: inline-block !important;position: relative;}#sk-container-id-1 div.sk-text-repr-fallback {display: none;}</style><div id=\"sk-container-id-1\" class=\"sk-top-container\"><div class=\"sk-text-repr-fallback\"><pre>GaussianNB()</pre><b>In a Jupyter environment, please rerun this cell to show the HTML representation or trust the notebook. <br />On GitHub, the HTML representation is unable to render, please try loading this page with nbviewer.org.</b></div><div class=\"sk-container\" hidden><div class=\"sk-item\"><div class=\"sk-estimator sk-toggleable\"><input class=\"sk-toggleable__control sk-hidden--visually\" id=\"sk-estimator-id-1\" type=\"checkbox\" checked><label for=\"sk-estimator-id-1\" class=\"sk-toggleable__label sk-toggleable__label-arrow\">GaussianNB</label><div class=\"sk-toggleable__content\"><pre>GaussianNB()</pre></div></div></div></div></div>"
      ],
      "text/plain": [
       "GaussianNB()"
      ]
     },
     "execution_count": 27,
     "metadata": {},
     "output_type": "execute_result"
    }
   ],
   "source": [
    "from sklearn.naive_bayes import GaussianNB\n",
    "classifier = GaussianNB()\n",
    "classifier.fit(X_train, y_train)"
   ]
  },
  {
   "cell_type": "code",
   "execution_count": 28,
   "id": "545222b7",
   "metadata": {},
   "outputs": [
    {
     "name": "stdout",
     "output_type": "stream",
     "text": [
      "[[1 1]\n",
      " [4 4]\n",
      " [4 4]\n",
      " ...\n",
      " [4 5]\n",
      " [3 3]\n",
      " [2 4]]\n"
     ]
    }
   ],
   "source": [
    "y_pred = classifier.predict(X_test)\n",
    "print(np.concatenate((y_pred.reshape(len(y_pred),1), y_test.reshape(len(y_test),1)),1))"
   ]
  },
  {
   "cell_type": "code",
   "execution_count": 29,
   "id": "c725aec3",
   "metadata": {},
   "outputs": [
    {
     "name": "stdout",
     "output_type": "stream",
     "text": [
      "[[411   0   0   0   0]\n",
      " [  0 437   0   0   0]\n",
      " [  5   8 438   0   0]\n",
      " [  6   4  49 370   2]\n",
      " [  0   1  25 134 253]]\n"
     ]
    },
    {
     "data": {
      "text/plain": [
       "0.8908072795146991"
      ]
     },
     "execution_count": 29,
     "metadata": {},
     "output_type": "execute_result"
    }
   ],
   "source": [
    "from sklearn.metrics import confusion_matrix, accuracy_score, classification_report\n",
    "cm = confusion_matrix(y_test, y_pred)\n",
    "print(cm)\n",
    "accuracy_score(y_test, y_pred)"
   ]
  },
  {
   "cell_type": "code",
   "execution_count": 30,
   "id": "4a805a8a",
   "metadata": {},
   "outputs": [
    {
     "data": {
      "text/html": [
       "<style>#sk-container-id-2 {color: black;background-color: white;}#sk-container-id-2 pre{padding: 0;}#sk-container-id-2 div.sk-toggleable {background-color: white;}#sk-container-id-2 label.sk-toggleable__label {cursor: pointer;display: block;width: 100%;margin-bottom: 0;padding: 0.3em;box-sizing: border-box;text-align: center;}#sk-container-id-2 label.sk-toggleable__label-arrow:before {content: \"▸\";float: left;margin-right: 0.25em;color: #696969;}#sk-container-id-2 label.sk-toggleable__label-arrow:hover:before {color: black;}#sk-container-id-2 div.sk-estimator:hover label.sk-toggleable__label-arrow:before {color: black;}#sk-container-id-2 div.sk-toggleable__content {max-height: 0;max-width: 0;overflow: hidden;text-align: left;background-color: #f0f8ff;}#sk-container-id-2 div.sk-toggleable__content pre {margin: 0.2em;color: black;border-radius: 0.25em;background-color: #f0f8ff;}#sk-container-id-2 input.sk-toggleable__control:checked~div.sk-toggleable__content {max-height: 200px;max-width: 100%;overflow: auto;}#sk-container-id-2 input.sk-toggleable__control:checked~label.sk-toggleable__label-arrow:before {content: \"▾\";}#sk-container-id-2 div.sk-estimator input.sk-toggleable__control:checked~label.sk-toggleable__label {background-color: #d4ebff;}#sk-container-id-2 div.sk-label input.sk-toggleable__control:checked~label.sk-toggleable__label {background-color: #d4ebff;}#sk-container-id-2 input.sk-hidden--visually {border: 0;clip: rect(1px 1px 1px 1px);clip: rect(1px, 1px, 1px, 1px);height: 1px;margin: -1px;overflow: hidden;padding: 0;position: absolute;width: 1px;}#sk-container-id-2 div.sk-estimator {font-family: monospace;background-color: #f0f8ff;border: 1px dotted black;border-radius: 0.25em;box-sizing: border-box;margin-bottom: 0.5em;}#sk-container-id-2 div.sk-estimator:hover {background-color: #d4ebff;}#sk-container-id-2 div.sk-parallel-item::after {content: \"\";width: 100%;border-bottom: 1px solid gray;flex-grow: 1;}#sk-container-id-2 div.sk-label:hover label.sk-toggleable__label {background-color: #d4ebff;}#sk-container-id-2 div.sk-serial::before {content: \"\";position: absolute;border-left: 1px solid gray;box-sizing: border-box;top: 0;bottom: 0;left: 50%;z-index: 0;}#sk-container-id-2 div.sk-serial {display: flex;flex-direction: column;align-items: center;background-color: white;padding-right: 0.2em;padding-left: 0.2em;position: relative;}#sk-container-id-2 div.sk-item {position: relative;z-index: 1;}#sk-container-id-2 div.sk-parallel {display: flex;align-items: stretch;justify-content: center;background-color: white;position: relative;}#sk-container-id-2 div.sk-item::before, #sk-container-id-2 div.sk-parallel-item::before {content: \"\";position: absolute;border-left: 1px solid gray;box-sizing: border-box;top: 0;bottom: 0;left: 50%;z-index: -1;}#sk-container-id-2 div.sk-parallel-item {display: flex;flex-direction: column;z-index: 1;position: relative;background-color: white;}#sk-container-id-2 div.sk-parallel-item:first-child::after {align-self: flex-end;width: 50%;}#sk-container-id-2 div.sk-parallel-item:last-child::after {align-self: flex-start;width: 50%;}#sk-container-id-2 div.sk-parallel-item:only-child::after {width: 0;}#sk-container-id-2 div.sk-dashed-wrapped {border: 1px dashed gray;margin: 0 0.4em 0.5em 0.4em;box-sizing: border-box;padding-bottom: 0.4em;background-color: white;}#sk-container-id-2 div.sk-label label {font-family: monospace;font-weight: bold;display: inline-block;line-height: 1.2em;}#sk-container-id-2 div.sk-label-container {text-align: center;}#sk-container-id-2 div.sk-container {/* jupyter's `normalize.less` sets `[hidden] { display: none; }` but bootstrap.min.css set `[hidden] { display: none !important; }` so we also need the `!important` here to be able to override the default hidden behavior on the sphinx rendered scikit-learn.org. See: https://github.com/scikit-learn/scikit-learn/issues/21755 */display: inline-block !important;position: relative;}#sk-container-id-2 div.sk-text-repr-fallback {display: none;}</style><div id=\"sk-container-id-2\" class=\"sk-top-container\"><div class=\"sk-text-repr-fallback\"><pre>KNeighborsClassifier()</pre><b>In a Jupyter environment, please rerun this cell to show the HTML representation or trust the notebook. <br />On GitHub, the HTML representation is unable to render, please try loading this page with nbviewer.org.</b></div><div class=\"sk-container\" hidden><div class=\"sk-item\"><div class=\"sk-estimator sk-toggleable\"><input class=\"sk-toggleable__control sk-hidden--visually\" id=\"sk-estimator-id-2\" type=\"checkbox\" checked><label for=\"sk-estimator-id-2\" class=\"sk-toggleable__label sk-toggleable__label-arrow\">KNeighborsClassifier</label><div class=\"sk-toggleable__content\"><pre>KNeighborsClassifier()</pre></div></div></div></div></div>"
      ],
      "text/plain": [
       "KNeighborsClassifier()"
      ]
     },
     "execution_count": 30,
     "metadata": {},
     "output_type": "execute_result"
    }
   ],
   "source": [
    "from sklearn.neighbors import KNeighborsClassifier\n",
    "classifier_KNN = KNeighborsClassifier(n_neighbors = 5, metric = 'minkowski', p = 2)\n",
    "classifier_KNN.fit(X_train, y_train)"
   ]
  },
  {
   "cell_type": "code",
   "execution_count": 31,
   "id": "f3ca8d76",
   "metadata": {},
   "outputs": [
    {
     "name": "stdout",
     "output_type": "stream",
     "text": [
      "[[411   0   0   0   0]\n",
      " [  0 437   0   0   0]\n",
      " [  0   0 451   0   0]\n",
      " [  3   0  15 399  14]\n",
      " [ 12   2  16  62 321]]\n",
      "0.9421371908539431\n",
      "              precision    recall  f1-score   support\n",
      "\n",
      "           1       0.96      1.00      0.98       411\n",
      "           2       1.00      1.00      1.00       437\n",
      "           3       0.94      1.00      0.97       451\n",
      "           4       0.87      0.93      0.89       431\n",
      "           5       0.96      0.78      0.86       413\n",
      "\n",
      "    accuracy                           0.94      2143\n",
      "   macro avg       0.94      0.94      0.94      2143\n",
      "weighted avg       0.94      0.94      0.94      2143\n",
      "\n"
     ]
    }
   ],
   "source": [
    "y_pred = classifier_KNN.predict(X_test)\n",
    "print(confusion_matrix(y_test, y_pred))\n",
    "print(accuracy_score(y_test, y_pred))\n",
    "print(classification_report(y_test, y_pred))"
   ]
  },
  {
   "cell_type": "code",
   "execution_count": 32,
   "id": "43128939",
   "metadata": {},
   "outputs": [
    {
     "data": {
      "text/html": [
       "<style>#sk-container-id-3 {color: black;background-color: white;}#sk-container-id-3 pre{padding: 0;}#sk-container-id-3 div.sk-toggleable {background-color: white;}#sk-container-id-3 label.sk-toggleable__label {cursor: pointer;display: block;width: 100%;margin-bottom: 0;padding: 0.3em;box-sizing: border-box;text-align: center;}#sk-container-id-3 label.sk-toggleable__label-arrow:before {content: \"▸\";float: left;margin-right: 0.25em;color: #696969;}#sk-container-id-3 label.sk-toggleable__label-arrow:hover:before {color: black;}#sk-container-id-3 div.sk-estimator:hover label.sk-toggleable__label-arrow:before {color: black;}#sk-container-id-3 div.sk-toggleable__content {max-height: 0;max-width: 0;overflow: hidden;text-align: left;background-color: #f0f8ff;}#sk-container-id-3 div.sk-toggleable__content pre {margin: 0.2em;color: black;border-radius: 0.25em;background-color: #f0f8ff;}#sk-container-id-3 input.sk-toggleable__control:checked~div.sk-toggleable__content {max-height: 200px;max-width: 100%;overflow: auto;}#sk-container-id-3 input.sk-toggleable__control:checked~label.sk-toggleable__label-arrow:before {content: \"▾\";}#sk-container-id-3 div.sk-estimator input.sk-toggleable__control:checked~label.sk-toggleable__label {background-color: #d4ebff;}#sk-container-id-3 div.sk-label input.sk-toggleable__control:checked~label.sk-toggleable__label {background-color: #d4ebff;}#sk-container-id-3 input.sk-hidden--visually {border: 0;clip: rect(1px 1px 1px 1px);clip: rect(1px, 1px, 1px, 1px);height: 1px;margin: -1px;overflow: hidden;padding: 0;position: absolute;width: 1px;}#sk-container-id-3 div.sk-estimator {font-family: monospace;background-color: #f0f8ff;border: 1px dotted black;border-radius: 0.25em;box-sizing: border-box;margin-bottom: 0.5em;}#sk-container-id-3 div.sk-estimator:hover {background-color: #d4ebff;}#sk-container-id-3 div.sk-parallel-item::after {content: \"\";width: 100%;border-bottom: 1px solid gray;flex-grow: 1;}#sk-container-id-3 div.sk-label:hover label.sk-toggleable__label {background-color: #d4ebff;}#sk-container-id-3 div.sk-serial::before {content: \"\";position: absolute;border-left: 1px solid gray;box-sizing: border-box;top: 0;bottom: 0;left: 50%;z-index: 0;}#sk-container-id-3 div.sk-serial {display: flex;flex-direction: column;align-items: center;background-color: white;padding-right: 0.2em;padding-left: 0.2em;position: relative;}#sk-container-id-3 div.sk-item {position: relative;z-index: 1;}#sk-container-id-3 div.sk-parallel {display: flex;align-items: stretch;justify-content: center;background-color: white;position: relative;}#sk-container-id-3 div.sk-item::before, #sk-container-id-3 div.sk-parallel-item::before {content: \"\";position: absolute;border-left: 1px solid gray;box-sizing: border-box;top: 0;bottom: 0;left: 50%;z-index: -1;}#sk-container-id-3 div.sk-parallel-item {display: flex;flex-direction: column;z-index: 1;position: relative;background-color: white;}#sk-container-id-3 div.sk-parallel-item:first-child::after {align-self: flex-end;width: 50%;}#sk-container-id-3 div.sk-parallel-item:last-child::after {align-self: flex-start;width: 50%;}#sk-container-id-3 div.sk-parallel-item:only-child::after {width: 0;}#sk-container-id-3 div.sk-dashed-wrapped {border: 1px dashed gray;margin: 0 0.4em 0.5em 0.4em;box-sizing: border-box;padding-bottom: 0.4em;background-color: white;}#sk-container-id-3 div.sk-label label {font-family: monospace;font-weight: bold;display: inline-block;line-height: 1.2em;}#sk-container-id-3 div.sk-label-container {text-align: center;}#sk-container-id-3 div.sk-container {/* jupyter's `normalize.less` sets `[hidden] { display: none; }` but bootstrap.min.css set `[hidden] { display: none !important; }` so we also need the `!important` here to be able to override the default hidden behavior on the sphinx rendered scikit-learn.org. See: https://github.com/scikit-learn/scikit-learn/issues/21755 */display: inline-block !important;position: relative;}#sk-container-id-3 div.sk-text-repr-fallback {display: none;}</style><div id=\"sk-container-id-3\" class=\"sk-top-container\"><div class=\"sk-text-repr-fallback\"><pre>RandomForestClassifier(criterion=&#x27;entropy&#x27;, n_estimators=20, random_state=0)</pre><b>In a Jupyter environment, please rerun this cell to show the HTML representation or trust the notebook. <br />On GitHub, the HTML representation is unable to render, please try loading this page with nbviewer.org.</b></div><div class=\"sk-container\" hidden><div class=\"sk-item\"><div class=\"sk-estimator sk-toggleable\"><input class=\"sk-toggleable__control sk-hidden--visually\" id=\"sk-estimator-id-3\" type=\"checkbox\" checked><label for=\"sk-estimator-id-3\" class=\"sk-toggleable__label sk-toggleable__label-arrow\">RandomForestClassifier</label><div class=\"sk-toggleable__content\"><pre>RandomForestClassifier(criterion=&#x27;entropy&#x27;, n_estimators=20, random_state=0)</pre></div></div></div></div></div>"
      ],
      "text/plain": [
       "RandomForestClassifier(criterion='entropy', n_estimators=20, random_state=0)"
      ]
     },
     "execution_count": 32,
     "metadata": {},
     "output_type": "execute_result"
    }
   ],
   "source": [
    "from sklearn.ensemble import RandomForestClassifier\n",
    "classifier_RF = RandomForestClassifier(n_estimators = 20, criterion = 'entropy', random_state = 0)\n",
    "classifier_RF.fit(X_train, y_train)"
   ]
  },
  {
   "cell_type": "code",
   "execution_count": 33,
   "id": "5124f567",
   "metadata": {},
   "outputs": [
    {
     "name": "stdout",
     "output_type": "stream",
     "text": [
      "[[411   0   0   0   0]\n",
      " [  0 437   0   0   0]\n",
      " [  0   0 451   0   0]\n",
      " [  0   0   0 428   3]\n",
      " [  2   0   0   9 402]]\n",
      "0.9934671021931871\n",
      "              precision    recall  f1-score   support\n",
      "\n",
      "           1       1.00      1.00      1.00       411\n",
      "           2       1.00      1.00      1.00       437\n",
      "           3       1.00      1.00      1.00       451\n",
      "           4       0.98      0.99      0.99       431\n",
      "           5       0.99      0.97      0.98       413\n",
      "\n",
      "    accuracy                           0.99      2143\n",
      "   macro avg       0.99      0.99      0.99      2143\n",
      "weighted avg       0.99      0.99      0.99      2143\n",
      "\n"
     ]
    }
   ],
   "source": [
    "y_pred = classifier_RF.predict(X_test)\n",
    "print(confusion_matrix(y_test, y_pred))\n",
    "print(accuracy_score(y_test, y_pred))\n",
    "print(classification_report(y_test, y_pred))"
   ]
  },
  {
   "cell_type": "code",
   "execution_count": 34,
   "id": "06c2defc",
   "metadata": {},
   "outputs": [
    {
     "name": "stdout",
     "output_type": "stream",
     "text": [
      "[[4 4]\n",
      " [4 4]\n",
      " [2 2]\n",
      " [2 2]\n",
      " [3 3]\n",
      " [3 3]\n",
      " [1 1]\n",
      " [1 1]\n",
      " [4 4]\n",
      " [5 5]\n",
      " [5 5]\n",
      " [2 2]\n",
      " [5 5]\n",
      " [2 2]]\n"
     ]
    }
   ],
   "source": [
    "## Line by line comparision of prdicted value vs actual value\n",
    "print(np.concatenate((y_pred.reshape(len(y_pred),1), y_test.reshape(len(y_test),1)),1)[1:15])"
   ]
  },
  {
   "cell_type": "markdown",
   "id": "985705b2",
   "metadata": {},
   "source": [
    "### Try Some other method for accuracy improvemnet"
   ]
  },
  {
   "cell_type": "code",
   "execution_count": null,
   "id": "919bc7b3",
   "metadata": {},
   "outputs": [],
   "source": []
  },
  {
   "cell_type": "code",
   "execution_count": 35,
   "id": "faa2ab2e",
   "metadata": {},
   "outputs": [],
   "source": [
    "X = df.Review\n",
    "y = df.Ratings"
   ]
  },
  {
   "cell_type": "code",
   "execution_count": 36,
   "id": "fb354856",
   "metadata": {},
   "outputs": [],
   "source": [
    "##  Unwanted text removal\n",
    "def scrub_words(text):\n",
    "    #removes html markup\n",
    "    text = re.sub(\"(<.*?>)\", \"\", text)\n",
    "    #remove non-ascii and digits\n",
    "    text = re.sub(\"(\\\\W)\", \" \", text)\n",
    "    text = re.sub(\"(\\\\d)\", \"\", text)\n",
    "    #remove white space\n",
    "    text = text.strip()\n",
    "    return text"
   ]
  },
  {
   "cell_type": "markdown",
   "id": "8d7bdeda",
   "metadata": {},
   "source": [
    "### Text cleaning "
   ]
  },
  {
   "cell_type": "code",
   "execution_count": 60,
   "id": "00140a82",
   "metadata": {},
   "outputs": [],
   "source": [
    "def scrub_words(text):\n",
    "    ## removing hyperlinks in the text\n",
    "    text = re.sub(\"(<.*?>)\", \"\", text)\n",
    "\n",
    "    ## removing non-sci characters\n",
    "    text = re.sub(\"(\\\\W)\", \" \", text)\n",
    "    text = re.sub(\"(\\\\d)\", \"\", text)\n",
    "\n",
    "    #remove white space\n",
    "    text = text.strip()\n",
    "    return text"
   ]
  },
  {
   "cell_type": "code",
   "execution_count": null,
   "id": "30906c81",
   "metadata": {},
   "outputs": [],
   "source": []
  },
  {
   "cell_type": "code",
   "execution_count": 70,
   "id": "02013c6b",
   "metadata": {},
   "outputs": [],
   "source": [
    " X = df.Review.apply(lambda x: scrub_words(x)) ## clean text "
   ]
  },
  {
   "cell_type": "code",
   "execution_count": 71,
   "id": "6b9c4d91",
   "metadata": {},
   "outputs": [
    {
     "data": {
      "text/plain": [
       "'Really Nice Cons   Lite or Dim display colour in p resolution while Online Video Streaming   Battery Backup is only  hours after normal uses but in description shows   hours   Pros  If you want to buy this Laptop for college or office purpose then buy   Best in this price segment   Window boot in  sec        lite gaming and System Sound Game recording in fps   mircrosoft office student  pre  installed lifetime validity'"
      ]
     },
     "execution_count": 71,
     "metadata": {},
     "output_type": "execute_result"
    }
   ],
   "source": [
    "X[100]"
   ]
  },
  {
   "cell_type": "code",
   "execution_count": 72,
   "id": "bdff821b",
   "metadata": {},
   "outputs": [],
   "source": [
    "word_vectorizer = TfidfVectorizer(token_pattern=r'\\w{1,}',\n",
    "                             strip_accents='unicode',\n",
    "                              stop_words= 'english',\n",
    "                              ngram_range= (2,6),\n",
    "                              max_features=100000)"
   ]
  },
  {
   "cell_type": "code",
   "execution_count": 73,
   "id": "5c886131",
   "metadata": {},
   "outputs": [],
   "source": [
    "train_word_features = word_vectorizer.fit_transform(X)"
   ]
  },
  {
   "cell_type": "code",
   "execution_count": 74,
   "id": "a4014415",
   "metadata": {},
   "outputs": [
    {
     "data": {
      "text/plain": [
       "(3228, 100000)"
      ]
     },
     "execution_count": 74,
     "metadata": {},
     "output_type": "execute_result"
    }
   ],
   "source": [
    "train_word_features.shape"
   ]
  },
  {
   "cell_type": "code",
   "execution_count": 75,
   "id": "4ef20f42",
   "metadata": {},
   "outputs": [],
   "source": [
    "char_vectorizer = TfidfVectorizer(\n",
    "                                sublinear_tf = True,\n",
    "                                strip_accents = 'unicode',\n",
    "                                analyzer = 'char',\n",
    "                                stop_words = 'english',\n",
    "                                ngram_range = (2,6),\n",
    "                                max_features = 50000)\n",
    "\n",
    "train_char_features = char_vectorizer.fit_transform(X)"
   ]
  },
  {
   "cell_type": "code",
   "execution_count": 43,
   "id": "2dab224b",
   "metadata": {},
   "outputs": [],
   "source": [
    "## concatenating both values\n",
    "train_features = hstack([train_word_features, train_char_features])"
   ]
  },
  {
   "cell_type": "code",
   "execution_count": 76,
   "id": "b27e5b0e",
   "metadata": {},
   "outputs": [
    {
     "data": {
      "text/plain": [
       "<3228x150000 sparse matrix of type '<class 'numpy.float64'>'\n",
       "\twith 2756527 stored elements in COOrdinate format>"
      ]
     },
     "execution_count": 76,
     "metadata": {},
     "output_type": "execute_result"
    }
   ],
   "source": [
    "train_features"
   ]
  },
  {
   "cell_type": "code",
   "execution_count": 77,
   "id": "24096cc1",
   "metadata": {},
   "outputs": [],
   "source": [
    "# splitting the data \n",
    "X_train, X_test, y_train, y_test = train_test_split(train_features, y, test_size = 0.25, random_state = 0, )"
   ]
  },
  {
   "cell_type": "code",
   "execution_count": 79,
   "id": "91dc784b",
   "metadata": {},
   "outputs": [
    {
     "name": "stdout",
     "output_type": "stream",
     "text": [
      "x_train (2421, 150000)\n",
      "x_test (807, 150000)\n",
      "y_train (2421,)\n",
      "y_test (807,)\n"
     ]
    }
   ],
   "source": [
    "# lets check the shapes of the all the splits \n",
    "print(\"x_train\", X_train.shape)\n",
    "print(\"x_test\", X_test.shape)\n",
    "print(\"y_train\", y_train.shape)\n",
    "print(\"y_test\", y_test.shape)"
   ]
  },
  {
   "cell_type": "code",
   "execution_count": 80,
   "id": "6260fa9f",
   "metadata": {},
   "outputs": [],
   "source": [
    "## Various classification methods\n",
    "rf = RandomForestClassifier()\n",
    "svc = LinearSVC()\n",
    "lr = LogisticRegression(solver='lbfgs')\n",
    "mnb = MultinomialNB()\n",
    "xgb = XGBClassifier(verbosity=0)\n",
    "bnb = BernoulliNB()\n",
    "sgd = SGDClassifier()"
   ]
  },
  {
   "cell_type": "code",
   "execution_count": 81,
   "id": "3e41faf5",
   "metadata": {},
   "outputs": [],
   "source": [
    "### Creating a function to train the models\n",
    "def BuiltModel(model):\n",
    "    print('*'*30+model.__class__.__name__+'*'*30)\n",
    "    model.fit(X_train,y_train)\n",
    "    pred = model.predict(X_test)\n",
    "\n",
    "    accuracy = accuracy_score(y_test,pred)*100\n",
    "\n",
    "    print(f\"Accuracy Score:\", accuracy)\n",
    "    print(\"---------------------------------------------------\")\n",
    "\n",
    "    #confusion matrix & classification report\n",
    "    \n",
    "    print(f\"CLASSIFICATION REPORT : \\n {classification_report(y_test,pred)}\")\n",
    "    print(f\"Confusion Matrix : \\n {confusion_matrix(y_test,pred)}\\n\")"
   ]
  },
  {
   "cell_type": "code",
   "execution_count": 49,
   "id": "a5f89b09",
   "metadata": {},
   "outputs": [
    {
     "name": "stdout",
     "output_type": "stream",
     "text": [
      "******************************LogisticRegression******************************\n",
      "Accuracy Score: 90.83023543990086\n",
      "---------------------------------------------------\n",
      "CLASSIFICATION REPORT : \n",
      "               precision    recall  f1-score   support\n",
      "\n",
      "           1       1.00      0.71      0.83        41\n",
      "           2       1.00      0.17      0.29         6\n",
      "           3       1.00      0.52      0.68        48\n",
      "           4       0.92      0.81      0.86       164\n",
      "           5       0.90      0.99      0.94       548\n",
      "\n",
      "    accuracy                           0.91       807\n",
      "   macro avg       0.96      0.64      0.72       807\n",
      "weighted avg       0.91      0.91      0.90       807\n",
      "\n",
      "Confusion Matrix : \n",
      " [[ 29   0   0   0  12]\n",
      " [  0   1   0   2   3]\n",
      " [  0   0  25   7  16]\n",
      " [  0   0   0 133  31]\n",
      " [  0   0   0   3 545]]\n",
      "\n",
      "******************************LinearSVC******************************\n",
      "Accuracy Score: 92.56505576208178\n",
      "---------------------------------------------------\n",
      "CLASSIFICATION REPORT : \n",
      "               precision    recall  f1-score   support\n",
      "\n",
      "           1       1.00      0.78      0.88        41\n",
      "           2       1.00      0.50      0.67         6\n",
      "           3       1.00      0.58      0.74        48\n",
      "           4       0.91      0.85      0.88       164\n",
      "           5       0.92      0.99      0.96       548\n",
      "\n",
      "    accuracy                           0.93       807\n",
      "   macro avg       0.97      0.74      0.82       807\n",
      "weighted avg       0.93      0.93      0.92       807\n",
      "\n",
      "Confusion Matrix : \n",
      " [[ 32   0   0   0   9]\n",
      " [  0   3   0   3   0]\n",
      " [  0   0  28   8  12]\n",
      " [  0   0   0 139  25]\n",
      " [  0   0   0   3 545]]\n",
      "\n",
      "******************************BernoulliNB******************************\n",
      "Accuracy Score: 80.91697645600992\n",
      "---------------------------------------------------\n",
      "CLASSIFICATION REPORT : \n",
      "               precision    recall  f1-score   support\n",
      "\n",
      "           1       1.00      0.32      0.48        41\n",
      "           2       0.00      0.00      0.00         6\n",
      "           3       1.00      0.23      0.37        48\n",
      "           4       0.69      0.65      0.67       164\n",
      "           5       0.83      0.95      0.89       548\n",
      "\n",
      "    accuracy                           0.81       807\n",
      "   macro avg       0.70      0.43      0.48       807\n",
      "weighted avg       0.81      0.81      0.79       807\n",
      "\n",
      "Confusion Matrix : \n",
      " [[ 13   0   0   3  25]\n",
      " [  0   0   0   2   4]\n",
      " [  0   0  11  18  19]\n",
      " [  0   0   0 106  58]\n",
      " [  0   0   0  25 523]]\n",
      "\n",
      "******************************MultinomialNB******************************\n",
      "Accuracy Score: 72.11895910780669\n",
      "---------------------------------------------------\n",
      "CLASSIFICATION REPORT : \n",
      "               precision    recall  f1-score   support\n",
      "\n",
      "           1       1.00      0.07      0.14        41\n",
      "           2       0.00      0.00      0.00         6\n",
      "           3       0.00      0.00      0.00        48\n",
      "           4       0.97      0.19      0.32       164\n",
      "           5       0.71      1.00      0.83       548\n",
      "\n",
      "    accuracy                           0.72       807\n",
      "   macro avg       0.54      0.25      0.26       807\n",
      "weighted avg       0.73      0.72      0.64       807\n",
      "\n",
      "Confusion Matrix : \n",
      " [[  3   0   0   0  38]\n",
      " [  0   0   0   0   6]\n",
      " [  0   0   0   1  47]\n",
      " [  0   0   0  31 133]\n",
      " [  0   0   0   0 548]]\n",
      "\n",
      "******************************SGDClassifier******************************\n",
      "Accuracy Score: 92.93680297397769\n",
      "---------------------------------------------------\n",
      "CLASSIFICATION REPORT : \n",
      "               precision    recall  f1-score   support\n",
      "\n",
      "           1       1.00      0.78      0.88        41\n",
      "           2       1.00      0.50      0.67         6\n",
      "           3       1.00      0.62      0.77        48\n",
      "           4       0.91      0.86      0.88       164\n",
      "           5       0.93      0.99      0.96       548\n",
      "\n",
      "    accuracy                           0.93       807\n",
      "   macro avg       0.97      0.75      0.83       807\n",
      "weighted avg       0.93      0.93      0.93       807\n",
      "\n",
      "Confusion Matrix : \n",
      " [[ 32   0   0   0   9]\n",
      " [  0   3   0   3   0]\n",
      " [  0   0  30   7  11]\n",
      " [  0   0   0 141  23]\n",
      " [  0   0   0   4 544]]\n",
      "\n",
      "******************************RandomForestClassifier******************************\n",
      "Accuracy Score: 92.19330855018588\n",
      "---------------------------------------------------\n",
      "CLASSIFICATION REPORT : \n",
      "               precision    recall  f1-score   support\n",
      "\n",
      "           1       1.00      0.73      0.85        41\n",
      "           2       1.00      0.50      0.67         6\n",
      "           3       1.00      0.60      0.75        48\n",
      "           4       0.98      0.82      0.89       164\n",
      "           5       0.90      1.00      0.95       548\n",
      "\n",
      "    accuracy                           0.92       807\n",
      "   macro avg       0.98      0.73      0.82       807\n",
      "weighted avg       0.93      0.92      0.92       807\n",
      "\n",
      "Confusion Matrix : \n",
      " [[ 30   0   0   0  11]\n",
      " [  0   3   0   0   3]\n",
      " [  0   0  29   2  17]\n",
      " [  0   0   0 135  29]\n",
      " [  0   0   0   1 547]]\n",
      "\n",
      "******************************XGBClassifier******************************\n",
      "Accuracy Score: 95.53903345724906\n",
      "---------------------------------------------------\n",
      "CLASSIFICATION REPORT : \n",
      "               precision    recall  f1-score   support\n",
      "\n",
      "           1       0.92      0.85      0.89        41\n",
      "           2       0.75      0.50      0.60         6\n",
      "           3       0.97      0.75      0.85        48\n",
      "           4       0.94      0.94      0.94       164\n",
      "           5       0.96      0.99      0.98       548\n",
      "\n",
      "    accuracy                           0.96       807\n",
      "   macro avg       0.91      0.81      0.85       807\n",
      "weighted avg       0.95      0.96      0.95       807\n",
      "\n",
      "Confusion Matrix : \n",
      " [[ 35   1   0   1   4]\n",
      " [  2   3   1   0   0]\n",
      " [  0   0  36   5   7]\n",
      " [  0   0   0 154  10]\n",
      " [  1   0   0   4 543]]\n",
      "\n"
     ]
    }
   ],
   "source": [
    "### Training all the models\n",
    "for model in [lr,svc,bnb,mnb,sgd,rf,xgb]:\n",
    "    BuiltModel(model)"
   ]
  },
  {
   "cell_type": "code",
   "execution_count": 83,
   "id": "8d1a4948",
   "metadata": {},
   "outputs": [
    {
     "name": "stdout",
     "output_type": "stream",
     "text": [
      "******************************LogisticRegression******************************\n",
      "Accuracy Score: 90.83023543990086\n",
      "---------------------------------------------------\n",
      "CLASSIFICATION REPORT : \n",
      "               precision    recall  f1-score   support\n",
      "\n",
      "           1       1.00      0.71      0.83        41\n",
      "           2       1.00      0.17      0.29         6\n",
      "           3       1.00      0.52      0.68        48\n",
      "           4       0.92      0.81      0.86       164\n",
      "           5       0.90      0.99      0.94       548\n",
      "\n",
      "    accuracy                           0.91       807\n",
      "   macro avg       0.96      0.64      0.72       807\n",
      "weighted avg       0.91      0.91      0.90       807\n",
      "\n",
      "Confusion Matrix : \n",
      " [[ 29   0   0   0  12]\n",
      " [  0   1   0   2   3]\n",
      " [  0   0  25   7  16]\n",
      " [  0   0   0 133  31]\n",
      " [  0   0   0   3 545]]\n",
      "\n",
      "******************************LinearSVC******************************\n",
      "Accuracy Score: 92.56505576208178\n",
      "---------------------------------------------------\n",
      "CLASSIFICATION REPORT : \n",
      "               precision    recall  f1-score   support\n",
      "\n",
      "           1       1.00      0.78      0.88        41\n",
      "           2       1.00      0.50      0.67         6\n",
      "           3       1.00      0.58      0.74        48\n",
      "           4       0.91      0.85      0.88       164\n",
      "           5       0.92      0.99      0.96       548\n",
      "\n",
      "    accuracy                           0.93       807\n",
      "   macro avg       0.97      0.74      0.82       807\n",
      "weighted avg       0.93      0.93      0.92       807\n",
      "\n",
      "Confusion Matrix : \n",
      " [[ 32   0   0   0   9]\n",
      " [  0   3   0   3   0]\n",
      " [  0   0  28   8  12]\n",
      " [  0   0   0 139  25]\n",
      " [  0   0   0   3 545]]\n",
      "\n",
      "******************************BernoulliNB******************************\n",
      "Accuracy Score: 80.91697645600992\n",
      "---------------------------------------------------\n",
      "CLASSIFICATION REPORT : \n",
      "               precision    recall  f1-score   support\n",
      "\n",
      "           1       1.00      0.32      0.48        41\n",
      "           2       0.00      0.00      0.00         6\n",
      "           3       1.00      0.23      0.37        48\n",
      "           4       0.69      0.65      0.67       164\n",
      "           5       0.83      0.95      0.89       548\n",
      "\n",
      "    accuracy                           0.81       807\n",
      "   macro avg       0.70      0.43      0.48       807\n",
      "weighted avg       0.81      0.81      0.79       807\n",
      "\n",
      "Confusion Matrix : \n",
      " [[ 13   0   0   3  25]\n",
      " [  0   0   0   2   4]\n",
      " [  0   0  11  18  19]\n",
      " [  0   0   0 106  58]\n",
      " [  0   0   0  25 523]]\n",
      "\n",
      "******************************MultinomialNB******************************\n",
      "Accuracy Score: 72.11895910780669\n",
      "---------------------------------------------------\n",
      "CLASSIFICATION REPORT : \n",
      "               precision    recall  f1-score   support\n",
      "\n",
      "           1       1.00      0.07      0.14        41\n",
      "           2       0.00      0.00      0.00         6\n",
      "           3       0.00      0.00      0.00        48\n",
      "           4       0.97      0.19      0.32       164\n",
      "           5       0.71      1.00      0.83       548\n",
      "\n",
      "    accuracy                           0.72       807\n",
      "   macro avg       0.54      0.25      0.26       807\n",
      "weighted avg       0.73      0.72      0.64       807\n",
      "\n",
      "Confusion Matrix : \n",
      " [[  3   0   0   0  38]\n",
      " [  0   0   0   0   6]\n",
      " [  0   0   0   1  47]\n",
      " [  0   0   0  31 133]\n",
      " [  0   0   0   0 548]]\n",
      "\n",
      "******************************SGDClassifier******************************\n",
      "Accuracy Score: 92.81288723667906\n",
      "---------------------------------------------------\n",
      "CLASSIFICATION REPORT : \n",
      "               precision    recall  f1-score   support\n",
      "\n",
      "           1       0.97      0.83      0.89        41\n",
      "           2       1.00      0.67      0.80         6\n",
      "           3       1.00      0.58      0.74        48\n",
      "           4       0.93      0.85      0.89       164\n",
      "           5       0.92      0.99      0.96       548\n",
      "\n",
      "    accuracy                           0.93       807\n",
      "   macro avg       0.96      0.78      0.85       807\n",
      "weighted avg       0.93      0.93      0.92       807\n",
      "\n",
      "Confusion Matrix : \n",
      " [[ 34   0   0   0   7]\n",
      " [  1   4   0   1   0]\n",
      " [  0   0  28   6  14]\n",
      " [  0   0   0 139  25]\n",
      " [  0   0   0   4 544]]\n",
      "\n",
      "******************************RandomForestClassifier******************************\n",
      "Accuracy Score: 92.81288723667906\n",
      "---------------------------------------------------\n",
      "CLASSIFICATION REPORT : \n",
      "               precision    recall  f1-score   support\n",
      "\n",
      "           1       1.00      0.78      0.88        41\n",
      "           2       1.00      0.50      0.67         6\n",
      "           3       1.00      0.60      0.75        48\n",
      "           4       0.98      0.85      0.91       164\n",
      "           5       0.91      1.00      0.95       548\n",
      "\n",
      "    accuracy                           0.93       807\n",
      "   macro avg       0.98      0.75      0.83       807\n",
      "weighted avg       0.93      0.93      0.92       807\n",
      "\n",
      "Confusion Matrix : \n",
      " [[ 32   0   0   0   9]\n",
      " [  0   3   0   0   3]\n",
      " [  0   0  29   1  18]\n",
      " [  0   0   0 139  25]\n",
      " [  0   0   0   2 546]]\n",
      "\n",
      "******************************XGBClassifier******************************\n",
      "Accuracy Score: 95.53903345724906\n",
      "---------------------------------------------------\n",
      "CLASSIFICATION REPORT : \n",
      "               precision    recall  f1-score   support\n",
      "\n",
      "           1       0.92      0.85      0.89        41\n",
      "           2       0.75      0.50      0.60         6\n",
      "           3       0.97      0.75      0.85        48\n",
      "           4       0.94      0.94      0.94       164\n",
      "           5       0.96      0.99      0.98       548\n",
      "\n",
      "    accuracy                           0.96       807\n",
      "   macro avg       0.91      0.81      0.85       807\n",
      "weighted avg       0.95      0.96      0.95       807\n",
      "\n",
      "Confusion Matrix : \n",
      " [[ 35   1   0   1   4]\n",
      " [  2   3   1   0   0]\n",
      " [  0   0  36   5   7]\n",
      " [  0   0   0 154  10]\n",
      " [  1   0   0   4 543]]\n",
      "\n"
     ]
    }
   ],
   "source": [
    "### Training all the models\n",
    "for model in [lr,svc,bnb,mnb,sgd,rf,xgb]:\n",
    "    BuiltModel(model)"
   ]
  },
  {
   "cell_type": "code",
   "execution_count": 52,
   "id": "ef0efaf2",
   "metadata": {},
   "outputs": [],
   "source": [
    "#lets selects different parameters for tuning\n",
    "grid_params = {\n",
    "                'penalty':['l2'],\n",
    "                'loss':['hinge','squared_hinge'],\n",
    "                'multi_class': ['ovr'],\n",
    "                'intercept_scaling':[2,3],\n",
    "                'dual':[True,False],\n",
    "                }"
   ]
  },
  {
   "cell_type": "code",
   "execution_count": 53,
   "id": "1817f5ae",
   "metadata": {},
   "outputs": [
    {
     "name": "stdout",
     "output_type": "stream",
     "text": [
      "Fitting 3 folds for each of 8 candidates, totalling 24 fits\n",
      "[CV 1/3; 1/8] START dual=True, intercept_scaling=2, loss=hinge, multi_class=ovr, penalty=l2\n",
      "[CV 1/3; 1/8] END dual=True, intercept_scaling=2, loss=hinge, multi_class=ovr, penalty=l2;, score=0.931 total time=   1.2s\n",
      "[CV 2/3; 1/8] START dual=True, intercept_scaling=2, loss=hinge, multi_class=ovr, penalty=l2\n",
      "[CV 2/3; 1/8] END dual=True, intercept_scaling=2, loss=hinge, multi_class=ovr, penalty=l2;, score=0.919 total time=   1.4s\n",
      "[CV 3/3; 1/8] START dual=True, intercept_scaling=2, loss=hinge, multi_class=ovr, penalty=l2\n",
      "[CV 3/3; 1/8] END dual=True, intercept_scaling=2, loss=hinge, multi_class=ovr, penalty=l2;, score=0.924 total time=   2.1s\n",
      "[CV 1/3; 2/8] START dual=True, intercept_scaling=2, loss=squared_hinge, multi_class=ovr, penalty=l2\n",
      "[CV 1/3; 2/8] END dual=True, intercept_scaling=2, loss=squared_hinge, multi_class=ovr, penalty=l2;, score=0.924 total time=   1.8s\n",
      "[CV 2/3; 2/8] START dual=True, intercept_scaling=2, loss=squared_hinge, multi_class=ovr, penalty=l2\n",
      "[CV 2/3; 2/8] END dual=True, intercept_scaling=2, loss=squared_hinge, multi_class=ovr, penalty=l2;, score=0.916 total time=   1.8s\n",
      "[CV 3/3; 2/8] START dual=True, intercept_scaling=2, loss=squared_hinge, multi_class=ovr, penalty=l2\n",
      "[CV 3/3; 2/8] END dual=True, intercept_scaling=2, loss=squared_hinge, multi_class=ovr, penalty=l2;, score=0.917 total time=   1.7s\n",
      "[CV 1/3; 3/8] START dual=True, intercept_scaling=3, loss=hinge, multi_class=ovr, penalty=l2\n",
      "[CV 1/3; 3/8] END dual=True, intercept_scaling=3, loss=hinge, multi_class=ovr, penalty=l2;, score=0.931 total time=   2.0s\n",
      "[CV 2/3; 3/8] START dual=True, intercept_scaling=3, loss=hinge, multi_class=ovr, penalty=l2\n",
      "[CV 2/3; 3/8] END dual=True, intercept_scaling=3, loss=hinge, multi_class=ovr, penalty=l2;, score=0.919 total time=   3.5s\n",
      "[CV 3/3; 3/8] START dual=True, intercept_scaling=3, loss=hinge, multi_class=ovr, penalty=l2\n",
      "[CV 3/3; 3/8] END dual=True, intercept_scaling=3, loss=hinge, multi_class=ovr, penalty=l2;, score=0.924 total time=   3.4s\n",
      "[CV 1/3; 4/8] START dual=True, intercept_scaling=3, loss=squared_hinge, multi_class=ovr, penalty=l2\n",
      "[CV 1/3; 4/8] END dual=True, intercept_scaling=3, loss=squared_hinge, multi_class=ovr, penalty=l2;, score=0.924 total time=   2.6s\n",
      "[CV 2/3; 4/8] START dual=True, intercept_scaling=3, loss=squared_hinge, multi_class=ovr, penalty=l2\n",
      "[CV 2/3; 4/8] END dual=True, intercept_scaling=3, loss=squared_hinge, multi_class=ovr, penalty=l2;, score=0.916 total time=   2.8s\n",
      "[CV 3/3; 4/8] START dual=True, intercept_scaling=3, loss=squared_hinge, multi_class=ovr, penalty=l2\n",
      "[CV 3/3; 4/8] END dual=True, intercept_scaling=3, loss=squared_hinge, multi_class=ovr, penalty=l2;, score=0.917 total time=   2.5s\n",
      "[CV 1/3; 5/8] START dual=False, intercept_scaling=2, loss=hinge, multi_class=ovr, penalty=l2\n",
      "[CV 1/3; 5/8] END dual=False, intercept_scaling=2, loss=hinge, multi_class=ovr, penalty=l2;, score=nan total time=   0.0s\n",
      "[CV 2/3; 5/8] START dual=False, intercept_scaling=2, loss=hinge, multi_class=ovr, penalty=l2\n",
      "[CV 2/3; 5/8] END dual=False, intercept_scaling=2, loss=hinge, multi_class=ovr, penalty=l2;, score=nan total time=   0.0s\n",
      "[CV 3/3; 5/8] START dual=False, intercept_scaling=2, loss=hinge, multi_class=ovr, penalty=l2\n",
      "[CV 3/3; 5/8] END dual=False, intercept_scaling=2, loss=hinge, multi_class=ovr, penalty=l2;, score=nan total time=   0.0s\n",
      "[CV 1/3; 6/8] START dual=False, intercept_scaling=2, loss=squared_hinge, multi_class=ovr, penalty=l2\n",
      "[CV 1/3; 6/8] END dual=False, intercept_scaling=2, loss=squared_hinge, multi_class=ovr, penalty=l2;, score=0.924 total time=   3.3s\n",
      "[CV 2/3; 6/8] START dual=False, intercept_scaling=2, loss=squared_hinge, multi_class=ovr, penalty=l2\n",
      "[CV 2/3; 6/8] END dual=False, intercept_scaling=2, loss=squared_hinge, multi_class=ovr, penalty=l2;, score=0.916 total time=   3.9s\n",
      "[CV 3/3; 6/8] START dual=False, intercept_scaling=2, loss=squared_hinge, multi_class=ovr, penalty=l2\n",
      "[CV 3/3; 6/8] END dual=False, intercept_scaling=2, loss=squared_hinge, multi_class=ovr, penalty=l2;, score=0.917 total time=   3.0s\n",
      "[CV 1/3; 7/8] START dual=False, intercept_scaling=3, loss=hinge, multi_class=ovr, penalty=l2\n",
      "[CV 1/3; 7/8] END dual=False, intercept_scaling=3, loss=hinge, multi_class=ovr, penalty=l2;, score=nan total time=   0.0s\n",
      "[CV 2/3; 7/8] START dual=False, intercept_scaling=3, loss=hinge, multi_class=ovr, penalty=l2\n",
      "[CV 2/3; 7/8] END dual=False, intercept_scaling=3, loss=hinge, multi_class=ovr, penalty=l2;, score=nan total time=   0.0s\n",
      "[CV 3/3; 7/8] START dual=False, intercept_scaling=3, loss=hinge, multi_class=ovr, penalty=l2\n",
      "[CV 3/3; 7/8] END dual=False, intercept_scaling=3, loss=hinge, multi_class=ovr, penalty=l2;, score=nan total time=   0.0s\n",
      "[CV 1/3; 8/8] START dual=False, intercept_scaling=3, loss=squared_hinge, multi_class=ovr, penalty=l2\n",
      "[CV 1/3; 8/8] END dual=False, intercept_scaling=3, loss=squared_hinge, multi_class=ovr, penalty=l2;, score=0.924 total time=   3.3s\n",
      "[CV 2/3; 8/8] START dual=False, intercept_scaling=3, loss=squared_hinge, multi_class=ovr, penalty=l2\n",
      "[CV 2/3; 8/8] END dual=False, intercept_scaling=3, loss=squared_hinge, multi_class=ovr, penalty=l2;, score=0.916 total time=   2.6s\n",
      "[CV 3/3; 8/8] START dual=False, intercept_scaling=3, loss=squared_hinge, multi_class=ovr, penalty=l2\n",
      "[CV 3/3; 8/8] END dual=False, intercept_scaling=3, loss=squared_hinge, multi_class=ovr, penalty=l2;, score=0.917 total time=   3.1s\n"
     ]
    },
    {
     "data": {
      "text/html": [
       "<style>#sk-container-id-5 {color: black;background-color: white;}#sk-container-id-5 pre{padding: 0;}#sk-container-id-5 div.sk-toggleable {background-color: white;}#sk-container-id-5 label.sk-toggleable__label {cursor: pointer;display: block;width: 100%;margin-bottom: 0;padding: 0.3em;box-sizing: border-box;text-align: center;}#sk-container-id-5 label.sk-toggleable__label-arrow:before {content: \"▸\";float: left;margin-right: 0.25em;color: #696969;}#sk-container-id-5 label.sk-toggleable__label-arrow:hover:before {color: black;}#sk-container-id-5 div.sk-estimator:hover label.sk-toggleable__label-arrow:before {color: black;}#sk-container-id-5 div.sk-toggleable__content {max-height: 0;max-width: 0;overflow: hidden;text-align: left;background-color: #f0f8ff;}#sk-container-id-5 div.sk-toggleable__content pre {margin: 0.2em;color: black;border-radius: 0.25em;background-color: #f0f8ff;}#sk-container-id-5 input.sk-toggleable__control:checked~div.sk-toggleable__content {max-height: 200px;max-width: 100%;overflow: auto;}#sk-container-id-5 input.sk-toggleable__control:checked~label.sk-toggleable__label-arrow:before {content: \"▾\";}#sk-container-id-5 div.sk-estimator input.sk-toggleable__control:checked~label.sk-toggleable__label {background-color: #d4ebff;}#sk-container-id-5 div.sk-label input.sk-toggleable__control:checked~label.sk-toggleable__label {background-color: #d4ebff;}#sk-container-id-5 input.sk-hidden--visually {border: 0;clip: rect(1px 1px 1px 1px);clip: rect(1px, 1px, 1px, 1px);height: 1px;margin: -1px;overflow: hidden;padding: 0;position: absolute;width: 1px;}#sk-container-id-5 div.sk-estimator {font-family: monospace;background-color: #f0f8ff;border: 1px dotted black;border-radius: 0.25em;box-sizing: border-box;margin-bottom: 0.5em;}#sk-container-id-5 div.sk-estimator:hover {background-color: #d4ebff;}#sk-container-id-5 div.sk-parallel-item::after {content: \"\";width: 100%;border-bottom: 1px solid gray;flex-grow: 1;}#sk-container-id-5 div.sk-label:hover label.sk-toggleable__label {background-color: #d4ebff;}#sk-container-id-5 div.sk-serial::before {content: \"\";position: absolute;border-left: 1px solid gray;box-sizing: border-box;top: 0;bottom: 0;left: 50%;z-index: 0;}#sk-container-id-5 div.sk-serial {display: flex;flex-direction: column;align-items: center;background-color: white;padding-right: 0.2em;padding-left: 0.2em;position: relative;}#sk-container-id-5 div.sk-item {position: relative;z-index: 1;}#sk-container-id-5 div.sk-parallel {display: flex;align-items: stretch;justify-content: center;background-color: white;position: relative;}#sk-container-id-5 div.sk-item::before, #sk-container-id-5 div.sk-parallel-item::before {content: \"\";position: absolute;border-left: 1px solid gray;box-sizing: border-box;top: 0;bottom: 0;left: 50%;z-index: -1;}#sk-container-id-5 div.sk-parallel-item {display: flex;flex-direction: column;z-index: 1;position: relative;background-color: white;}#sk-container-id-5 div.sk-parallel-item:first-child::after {align-self: flex-end;width: 50%;}#sk-container-id-5 div.sk-parallel-item:last-child::after {align-self: flex-start;width: 50%;}#sk-container-id-5 div.sk-parallel-item:only-child::after {width: 0;}#sk-container-id-5 div.sk-dashed-wrapped {border: 1px dashed gray;margin: 0 0.4em 0.5em 0.4em;box-sizing: border-box;padding-bottom: 0.4em;background-color: white;}#sk-container-id-5 div.sk-label label {font-family: monospace;font-weight: bold;display: inline-block;line-height: 1.2em;}#sk-container-id-5 div.sk-label-container {text-align: center;}#sk-container-id-5 div.sk-container {/* jupyter's `normalize.less` sets `[hidden] { display: none; }` but bootstrap.min.css set `[hidden] { display: none !important; }` so we also need the `!important` here to be able to override the default hidden behavior on the sphinx rendered scikit-learn.org. See: https://github.com/scikit-learn/scikit-learn/issues/21755 */display: inline-block !important;position: relative;}#sk-container-id-5 div.sk-text-repr-fallback {display: none;}</style><div id=\"sk-container-id-5\" class=\"sk-top-container\"><div class=\"sk-text-repr-fallback\"><pre>GridSearchCV(cv=3, estimator=LinearSVC(),\n",
       "             param_grid={&#x27;dual&#x27;: [True, False], &#x27;intercept_scaling&#x27;: [2, 3],\n",
       "                         &#x27;loss&#x27;: [&#x27;hinge&#x27;, &#x27;squared_hinge&#x27;],\n",
       "                         &#x27;multi_class&#x27;: [&#x27;ovr&#x27;], &#x27;penalty&#x27;: [&#x27;l2&#x27;]},\n",
       "             verbose=10)</pre><b>In a Jupyter environment, please rerun this cell to show the HTML representation or trust the notebook. <br />On GitHub, the HTML representation is unable to render, please try loading this page with nbviewer.org.</b></div><div class=\"sk-container\" hidden><div class=\"sk-item sk-dashed-wrapped\"><div class=\"sk-label-container\"><div class=\"sk-label sk-toggleable\"><input class=\"sk-toggleable__control sk-hidden--visually\" id=\"sk-estimator-id-5\" type=\"checkbox\" ><label for=\"sk-estimator-id-5\" class=\"sk-toggleable__label sk-toggleable__label-arrow\">GridSearchCV</label><div class=\"sk-toggleable__content\"><pre>GridSearchCV(cv=3, estimator=LinearSVC(),\n",
       "             param_grid={&#x27;dual&#x27;: [True, False], &#x27;intercept_scaling&#x27;: [2, 3],\n",
       "                         &#x27;loss&#x27;: [&#x27;hinge&#x27;, &#x27;squared_hinge&#x27;],\n",
       "                         &#x27;multi_class&#x27;: [&#x27;ovr&#x27;], &#x27;penalty&#x27;: [&#x27;l2&#x27;]},\n",
       "             verbose=10)</pre></div></div></div><div class=\"sk-parallel\"><div class=\"sk-parallel-item\"><div class=\"sk-item\"><div class=\"sk-label-container\"><div class=\"sk-label sk-toggleable\"><input class=\"sk-toggleable__control sk-hidden--visually\" id=\"sk-estimator-id-6\" type=\"checkbox\" ><label for=\"sk-estimator-id-6\" class=\"sk-toggleable__label sk-toggleable__label-arrow\">estimator: LinearSVC</label><div class=\"sk-toggleable__content\"><pre>LinearSVC()</pre></div></div></div><div class=\"sk-serial\"><div class=\"sk-item\"><div class=\"sk-estimator sk-toggleable\"><input class=\"sk-toggleable__control sk-hidden--visually\" id=\"sk-estimator-id-7\" type=\"checkbox\" ><label for=\"sk-estimator-id-7\" class=\"sk-toggleable__label sk-toggleable__label-arrow\">LinearSVC</label><div class=\"sk-toggleable__content\"><pre>LinearSVC()</pre></div></div></div></div></div></div></div></div></div></div>"
      ],
      "text/plain": [
       "GridSearchCV(cv=3, estimator=LinearSVC(),\n",
       "             param_grid={'dual': [True, False], 'intercept_scaling': [2, 3],\n",
       "                         'loss': ['hinge', 'squared_hinge'],\n",
       "                         'multi_class': ['ovr'], 'penalty': ['l2']},\n",
       "             verbose=10)"
      ]
     },
     "execution_count": 53,
     "metadata": {},
     "output_type": "execute_result"
    }
   ],
   "source": [
    "GCV =  GridSearchCV(svc, grid_params, cv = 3, verbose=10)\n",
    "GCV.fit(X_train,y_train)"
   ]
  },
  {
   "cell_type": "code",
   "execution_count": 54,
   "id": "e1e0a8ad",
   "metadata": {},
   "outputs": [
    {
     "data": {
      "text/plain": [
       "{'dual': True,\n",
       " 'intercept_scaling': 2,\n",
       " 'loss': 'hinge',\n",
       " 'multi_class': 'ovr',\n",
       " 'penalty': 'l2'}"
      ]
     },
     "execution_count": 54,
     "metadata": {},
     "output_type": "execute_result"
    }
   ],
   "source": [
    "## Printing the best hyper parameter values\n",
    "GCV.best_params_   "
   ]
  },
  {
   "cell_type": "code",
   "execution_count": 55,
   "id": "2b7d921b",
   "metadata": {},
   "outputs": [
    {
     "name": "stdout",
     "output_type": "stream",
     "text": [
      "Accuracy Score : 92.93680297397769\n",
      "\n",
      "Confusion Matrix : \n",
      " [[ 32   0   0   0   9]\n",
      " [  0   3   0   3   0]\n",
      " [  0   0  29   9  10]\n",
      " [  0   0   0 141  23]\n",
      " [  0   0   0   3 545]]\n",
      "\n",
      "\n",
      "CLASSIFICATION REPORT : \n",
      "               precision    recall  f1-score   support\n",
      "\n",
      "           1       1.00      0.78      0.88        41\n",
      "           2       1.00      0.50      0.67         6\n",
      "           3       1.00      0.60      0.75        48\n",
      "           4       0.90      0.86      0.88       164\n",
      "           5       0.93      0.99      0.96       548\n",
      "\n",
      "    accuracy                           0.93       807\n",
      "   macro avg       0.97      0.75      0.83       807\n",
      "weighted avg       0.93      0.93      0.93       807\n",
      "\n"
     ]
    }
   ],
   "source": [
    "#training and testing our final model with above parameters\n",
    "model = LinearSVC(dual = True, intercept_scaling = 2, loss = 'hinge', multi_class = 'ovr', penalty = 'l2')\n",
    "model.fit(X_train,y_train) #fitting data to model\n",
    "pred = model.predict(X_test)\n",
    "accuracy = accuracy_score(y_test,pred)*100\n",
    "\n",
    "#printing accuracy score\n",
    "print(\"Accuracy Score :\", accuracy)\n",
    "\n",
    "#printing Confusion matrix\n",
    "print(f\"\\nConfusion Matrix : \\n {confusion_matrix(y_test,pred)}\\n\")\n",
    "\n",
    "#printing Classification report\n",
    "print(f\"\\nCLASSIFICATION REPORT : \\n {classification_report(y_test,pred)}\")"
   ]
  },
  {
   "cell_type": "code",
   "execution_count": 56,
   "id": "8f14cec5",
   "metadata": {},
   "outputs": [
    {
     "data": {
      "text/plain": [
       "['Rating_Prediction_Project.pkl']"
      ]
     },
     "execution_count": 56,
     "metadata": {},
     "output_type": "execute_result"
    }
   ],
   "source": [
    "## SAving the model\n",
    "import joblib\n",
    "joblib.dump(model,\"Rating_Prediction_Project.pkl\")"
   ]
  },
  {
   "cell_type": "code",
   "execution_count": null,
   "id": "4f106d64",
   "metadata": {},
   "outputs": [],
   "source": []
  }
 ],
 "metadata": {
  "kernelspec": {
   "display_name": "Python 3 (ipykernel)",
   "language": "python",
   "name": "python3"
  },
  "language_info": {
   "codemirror_mode": {
    "name": "ipython",
    "version": 3
   },
   "file_extension": ".py",
   "mimetype": "text/x-python",
   "name": "python",
   "nbconvert_exporter": "python",
   "pygments_lexer": "ipython3",
   "version": "3.9.0"
  }
 },
 "nbformat": 4,
 "nbformat_minor": 5
}
